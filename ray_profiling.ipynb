{
 "cells": [
  {
   "cell_type": "code",
   "execution_count": 9,
   "metadata": {
    "collapsed": true
   },
   "outputs": [],
   "source": [
    "import ray\n",
    "import cProfile\n",
    "import pstats\n",
    "import StringIO\n",
    "import time\n",
    "import sys\n",
    "import numpy as np"
   ]
  },
  {
   "cell_type": "code",
   "execution_count": 2,
   "metadata": {
    "collapsed": false
   },
   "outputs": [
    {
     "name": "stdout",
     "output_type": "stream",
     "text": [
      "Waiting for redis server at 127.0.0.1:41367 to respond...\n",
      "Waiting for redis server at 127.0.0.1:38244 to respond...\n",
      "Starting local scheduler with the following resources: {'GPU': 0, 'CPU': 4}.\n",
      "\n",
      "======================================================================\n",
      "View the web UI at http://localhost:8905/notebooks/ray_ui84605.ipynb?token=c6ec687c9738442b4a57aa83486dcaefa53f84f4fc4f4fe9\n",
      "======================================================================\n",
      "\n"
     ]
    },
    {
     "data": {
      "text/plain": [
       "{'local_scheduler_socket_names': ['/tmp/scheduler23746378'],\n",
       " 'node_ip_address': '127.0.0.1',\n",
       " 'object_store_addresses': [ObjectStoreAddress(name='/tmp/plasma_store65706818', manager_name='/tmp/plasma_manager1524140', manager_port=30709)],\n",
       " 'redis_address': '127.0.0.1:41367',\n",
       " 'webui_url': 'http://localhost:8905/notebooks/ray_ui84605.ipynb?token=c6ec687c9738442b4a57aa83486dcaefa53f84f4fc4f4fe9'}"
      ]
     },
     "execution_count": 2,
     "metadata": {},
     "output_type": "execute_result"
    }
   ],
   "source": [
    "ray.init()"
   ]
  },
  {
   "cell_type": "code",
   "execution_count": 36,
   "metadata": {
    "collapsed": true
   },
   "outputs": [],
   "source": [
    "def get_profile_data(arr):\n",
    "    pr = cProfile.Profile()\n",
    "    pr.enable()\n",
    "    ray.put(arr)\n",
    "    pr.disable()\n",
    "    return pr"
   ]
  },
  {
   "cell_type": "code",
   "execution_count": 37,
   "metadata": {
    "collapsed": true
   },
   "outputs": [],
   "source": [
    "def stats_printer(profile_object):\n",
    "    s = StringIO.StringIO()\n",
    "    sortby = 'module'\n",
    "    ps = pstats.Stats(profile_object, stream=s).sort_stats(sortby)\n",
    "    ps.strip_dirs()\n",
    "    ps.print_stats('worker|plasma')\n",
    "    print s.getvalue()"
   ]
  },
  {
   "cell_type": "code",
   "execution_count": 38,
   "metadata": {
    "collapsed": true
   },
   "outputs": [],
   "source": [
    "def print_profile_data(arr):\n",
    "    stats_printer(get_profile_data(arr))"
   ]
  },
  {
   "cell_type": "code",
   "execution_count": 39,
   "metadata": {
    "collapsed": false
   },
   "outputs": [
    {
     "name": "stdout",
     "output_type": "stream",
     "text": [
      "         27 function calls in 0.011 seconds\n",
      "\n",
      "   Random listing order was used\n",
      "   List reduced from 21 to 12 due to restriction <'worker|plasma'>\n",
      "\n",
      "   ncalls  tottime  percall  cumtime  percall filename:lineno(function)\n",
      "        1    0.001    0.001    0.001    0.001 worker.py:2146(__enter__)\n",
      "        1    0.000    0.000    0.000    0.000 worker.py:947(check_main_thread)\n",
      "        1    0.000    0.000    0.000    0.000 worker.py:961(check_connected)\n",
      "        2    0.000    0.000    0.000    0.000 worker.py:2196(<dictcomp>)\n",
      "        1    0.001    0.001    0.006    0.006 worker.py:257(store_and_register)\n",
      "        1    0.000    0.000    0.000    0.000 worker.py:2140(__init__)\n",
      "        1    0.005    0.005    0.005    0.005 {method 'put' of 'pyarrow.plasma.PlasmaClient' objects}\n",
      "        1    0.000    0.000    0.000    0.000 worker.py:2167(log_span)\n",
      "        1    0.000    0.000    0.000    0.000 worker.py:2153(__exit__)\n",
      "        1    0.001    0.001    0.011    0.011 worker.py:2253(put)\n",
      "        2    0.001    0.000    0.001    0.000 worker.py:2175(log)\n",
      "        1    0.000    0.000    0.007    0.007 worker.py:322(put_object)\n",
      "\n",
      "\n",
      "\n"
     ]
    }
   ],
   "source": [
    "short_numpy_array = np.array([1,2,3,4,5])\n",
    "print_profile_data(short_numpy_array)"
   ]
  },
  {
   "cell_type": "code",
   "execution_count": 40,
   "metadata": {
    "collapsed": false
   },
   "outputs": [
    {
     "name": "stdout",
     "output_type": "stream",
     "text": [
      "         27 function calls in 0.016 seconds\n",
      "\n",
      "   Random listing order was used\n",
      "   List reduced from 21 to 12 due to restriction <'worker|plasma'>\n",
      "\n",
      "   ncalls  tottime  percall  cumtime  percall filename:lineno(function)\n",
      "        1    0.000    0.000    0.000    0.000 worker.py:2146(__enter__)\n",
      "        1    0.000    0.000    0.000    0.000 worker.py:947(check_main_thread)\n",
      "        1    0.000    0.000    0.000    0.000 worker.py:961(check_connected)\n",
      "        2    0.000    0.000    0.000    0.000 worker.py:2196(<dictcomp>)\n",
      "        1    0.000    0.000    0.016    0.016 worker.py:257(store_and_register)\n",
      "        1    0.000    0.000    0.000    0.000 worker.py:2140(__init__)\n",
      "        1    0.016    0.016    0.016    0.016 {method 'put' of 'pyarrow.plasma.PlasmaClient' objects}\n",
      "        1    0.000    0.000    0.000    0.000 worker.py:2167(log_span)\n",
      "        1    0.000    0.000    0.000    0.000 worker.py:2153(__exit__)\n",
      "        1    0.000    0.000    0.016    0.016 worker.py:2253(put)\n",
      "        2    0.000    0.000    0.000    0.000 worker.py:2175(log)\n",
      "        1    0.000    0.000    0.016    0.016 worker.py:322(put_object)\n",
      "\n",
      "\n",
      "\n"
     ]
    }
   ],
   "source": [
    "large_numpy_array = np.array([i for i in range(100000)])\n",
    "print_profile_data(large_numpy_array)"
   ]
  },
  {
   "cell_type": "code",
   "execution_count": 28,
   "metadata": {
    "collapsed": false
   },
   "outputs": [],
   "source": [
    "short_numpy_array = np.array([1,2,3,4,5])\n",
    "pr = cProfile.Profile()"
   ]
  },
  {
   "cell_type": "code",
   "execution_count": 34,
   "metadata": {
    "collapsed": false
   },
   "outputs": [],
   "source": [
    "pr.enable()\n",
    "ray.put(short_numpy_array)\n",
    "pr.disable()"
   ]
  },
  {
   "cell_type": "code",
   "execution_count": 35,
   "metadata": {
    "collapsed": false
   },
   "outputs": [
    {
     "name": "stdout",
     "output_type": "stream",
     "text": [
      "         86 function calls in 0.015 seconds\n",
      "\n",
      "   Random listing order was used\n",
      "   List reduced from 32 to 12 due to restriction <'worker|plasma'>\n",
      "\n",
      "   ncalls  tottime  percall  cumtime  percall filename:lineno(function)\n",
      "        2    0.001    0.000    0.001    0.000 worker.py:947(check_main_thread)\n",
      "        2    0.001    0.000    0.001    0.000 worker.py:2140(__init__)\n",
      "        2    0.001    0.000    0.001    0.001 worker.py:2167(log_span)\n",
      "        2    0.001    0.001    0.001    0.001 worker.py:961(check_connected)\n",
      "        2    0.000    0.000    0.000    0.000 worker.py:2153(__exit__)\n",
      "        2    0.008    0.004    0.008    0.004 {method 'put' of 'pyarrow.plasma.PlasmaClient' objects}\n",
      "        2    0.001    0.001    0.014    0.007 worker.py:2253(put)\n",
      "        4    0.000    0.000    0.000    0.000 worker.py:2175(log)\n",
      "        2    0.000    0.000    0.000    0.000 worker.py:2146(__enter__)\n",
      "        2    0.001    0.000    0.008    0.004 worker.py:257(store_and_register)\n",
      "        4    0.000    0.000    0.000    0.000 worker.py:2196(<dictcomp>)\n",
      "        2    0.000    0.000    0.008    0.004 worker.py:322(put_object)\n",
      "\n",
      "\n",
      "\n"
     ]
    }
   ],
   "source": [
    "s = StringIO.StringIO()\n",
    "sortby = 'module'\n",
    "ps = pstats.Stats(pr, stream=s).sort_stats(sortby)\n",
    "ps.strip_dirs()\n",
    "ps.print_stats('worker|plasma')\n",
    "print s.getvalue()"
   ]
  },
  {
   "cell_type": "code",
   "execution_count": 32,
   "metadata": {
    "collapsed": true
   },
   "outputs": [],
   "source": [
    "large_numpy_array = np.array([i for i in range(100000)])"
   ]
  },
  {
   "cell_type": "code",
   "execution_count": 10,
   "metadata": {
    "collapsed": false
   },
   "outputs": [
    {
     "data": {
      "text/plain": [
       "136"
      ]
     },
     "execution_count": 10,
     "metadata": {},
     "output_type": "execute_result"
    }
   ],
   "source": [
    "sys.getsizeof(short_numpy_array)"
   ]
  },
  {
   "cell_type": "code",
   "execution_count": 11,
   "metadata": {
    "collapsed": false
   },
   "outputs": [
    {
     "data": {
      "text/plain": [
       "800096"
      ]
     },
     "execution_count": 11,
     "metadata": {},
     "output_type": "execute_result"
    }
   ],
   "source": [
    "sys.getsizeof(large_numpy_array)"
   ]
  },
  {
   "cell_type": "code",
   "execution_count": null,
   "metadata": {
    "collapsed": true
   },
   "outputs": [],
   "source": [
    "pr.enable()\n",
    "ray.put()\n",
    "pr.disable()\n",
    "s = StringIO.StringIO()\n",
    "sortby = 'module'\n",
    "ps = pstats.Stats(pr, stream=s).sort_stats(sortby)\n",
    "ps.strip_dirs()\n",
    "ps.print_stats('worker|plasma')\n",
    "print s.getvalue()"
   ]
  }
 ],
 "metadata": {
  "kernelspec": {
   "display_name": "Python 2",
   "language": "python",
   "name": "python2"
  },
  "language_info": {
   "codemirror_mode": {
    "name": "ipython",
    "version": 2
   },
   "file_extension": ".py",
   "mimetype": "text/x-python",
   "name": "python",
   "nbconvert_exporter": "python",
   "pygments_lexer": "ipython2",
   "version": "2.7.12"
  }
 },
 "nbformat": 4,
 "nbformat_minor": 2
}
