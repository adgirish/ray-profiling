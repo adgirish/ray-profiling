{
 "cells": [
  {
   "cell_type": "code",
   "execution_count": 1,
   "metadata": {},
   "outputs": [],
   "source": [
    "import ray\n",
    "import cProfile\n",
    "import pstats\n",
    "import time\n",
    "import sys\n",
    "import numpy as np"
   ]
  },
  {
   "cell_type": "code",
   "execution_count": 2,
   "metadata": {},
   "outputs": [
    {
     "name": "stdout",
     "output_type": "stream",
     "text": [
      "Waiting for redis server at 127.0.0.1:50991 to respond...\n",
      "Waiting for redis server at 127.0.0.1:58744 to respond...\n",
      "Starting local scheduler with the following resources: {'CPU': 8, 'GPU': 0}.\n",
      "\n",
      "======================================================================\n",
      "View the web UI at http://localhost:8890/notebooks/ray_ui98543.ipynb?token=90637ba3347332c21b694ea350c9de92c66ccb89e39dac63\n",
      "======================================================================\n",
      "\n"
     ]
    },
    {
     "data": {
      "text/plain": [
       "{'local_scheduler_socket_names': ['/tmp/scheduler42608744'],\n",
       " 'node_ip_address': '127.0.0.1',\n",
       " 'object_store_addresses': [ObjectStoreAddress(name='/tmp/plasma_store55972419', manager_name='/tmp/plasma_manager58394320', manager_port=24235)],\n",
       " 'redis_address': '127.0.0.1:50991',\n",
       " 'webui_url': 'http://localhost:8890/notebooks/ray_ui98543.ipynb?token=90637ba3347332c21b694ea350c9de92c66ccb89e39dac63'}"
      ]
     },
     "execution_count": 2,
     "metadata": {},
     "output_type": "execute_result"
    }
   ],
   "source": [
    "ray.init()"
   ]
  },
  {
   "cell_type": "markdown",
   "metadata": {},
   "source": [
    "# Functions"
   ]
  },
  {
   "cell_type": "code",
   "execution_count": 3,
   "metadata": {
    "collapsed": true
   },
   "outputs": [],
   "source": [
    "def get_profile_data(arr):\n",
    "    pr = cProfile.Profile(timeunit = .000001)\n",
    "    pr.enable()\n",
    "    ray.put(arr)\n",
    "    pr.disable()\n",
    "    return pr"
   ]
  },
  {
   "cell_type": "code",
   "execution_count": 4,
   "metadata": {},
   "outputs": [],
   "source": [
    "def stats_printer(profile_object):\n",
    "    s = StringIO.StringIO()\n",
    "    sortby = 'module'\n",
    "    ps = pstats.Stats(profile_object, stream=s).sort_stats(sortby)\n",
    "    ps.strip_dirs()\n",
    "    ps.print_stats('worker|plasma')\n",
    "    print(s.getvalue())"
   ]
  },
  {
   "cell_type": "code",
   "execution_count": 5,
   "metadata": {
    "collapsed": true
   },
   "outputs": [],
   "source": [
    "def print_profile_data(arr):\n",
    "    profile_data = get_profile_data(arr)\n",
    "    \n",
    "    print('ncalls', 'tottime', 'inlinetime', 'filename(function)', sep='\\t\\t')\n",
    "    for line in profile_data.getstats():\n",
    "        code = line.code\n",
    "        if type(code) is not str:\n",
    "            code = code.co_filename.split('/')[-1]+\":\"+code.co_name\n",
    "\n",
    "        ncalls = line.callcount\n",
    "        tottime = \"%.6f\" % line.totaltime\n",
    "        inlinetime = \"%.6f\" % line.inlinetime\n",
    "\n",
    "        print(ncalls, tottime, inlinetime, code, sep='\\t\\t')"
   ]
  },
  {
   "cell_type": "markdown",
   "metadata": {},
   "source": [
    "# Test Inputs"
   ]
  },
  {
   "cell_type": "code",
   "execution_count": 6,
   "metadata": {
    "collapsed": true
   },
   "outputs": [],
   "source": [
    "short_numpy_array = np.array([1,2,3,4,5])\n",
    "large_numpy_array = np.array([i for i in range(100000)])\n",
    "very_large_numpy_array = np.array([i for i in range(1000000)])"
   ]
  },
  {
   "cell_type": "code",
   "execution_count": 7,
   "metadata": {},
   "outputs": [
    {
     "data": {
      "text/plain": [
       "136"
      ]
     },
     "execution_count": 7,
     "metadata": {},
     "output_type": "execute_result"
    }
   ],
   "source": [
    "sys.getsizeof(short_numpy_array)"
   ]
  },
  {
   "cell_type": "code",
   "execution_count": 8,
   "metadata": {
    "scrolled": true
   },
   "outputs": [
    {
     "data": {
      "text/plain": [
       "800096"
      ]
     },
     "execution_count": 8,
     "metadata": {},
     "output_type": "execute_result"
    }
   ],
   "source": [
    "sys.getsizeof(large_numpy_array)"
   ]
  },
  {
   "cell_type": "code",
   "execution_count": 9,
   "metadata": {},
   "outputs": [
    {
     "data": {
      "text/plain": [
       "8000096"
      ]
     },
     "execution_count": 9,
     "metadata": {},
     "output_type": "execute_result"
    }
   ],
   "source": [
    "sys.getsizeof(very_large_numpy_array)"
   ]
  },
  {
   "cell_type": "markdown",
   "metadata": {},
   "source": [
    "# Profiling Results with Custom Printer"
   ]
  },
  {
   "cell_type": "code",
   "execution_count": 14,
   "metadata": {},
   "outputs": [
    {
     "name": "stdout",
     "output_type": "stream",
     "text": [
      "ncalls\t\ttottime\t\tinlinetime\t\tfilename(function)\n",
      "2\t\t0.000002\t\t0.000002\t\t<method 'items' of 'dict' objects>\n",
      "4\t\t0.000001\t\t0.000001\t\t<built-in method builtins.isinstance>\n",
      "1\t\t0.000000\t\t0.000000\t\t<built-in method _thread.get_ident>\n",
      "1\t\t0.000001\t\t0.000001\t\tthreading.py:name\n",
      "1\t\t0.000002\t\t0.000001\t\tthreading.py:getName\n",
      "1\t\t0.000003\t\t0.000003\t\tthreading.py:current_thread\n",
      "1\t\t0.000000\t\t0.000000\t\t<method 'disable' of '_lsprof.Profiler' objects>\n",
      "1\t\t0.000564\t\t0.000012\t\tworker.py:store_and_register\n",
      "1\t\t0.000015\t\t0.000015\t\t<method 'compute_put_id' of 'local_scheduler.LocalSchedulerClient' objects>\n",
      "1\t\t0.000000\t\t0.000000\t\t<method 'id' of 'common.ObjectID' objects>\n",
      "1\t\t0.000569\t\t0.000005\t\tworker.py:put_object\n",
      "1\t\t0.000008\t\t0.000003\t\tworker.py:check_main_thread\n",
      "1\t\t0.000001\t\t0.000001\t\tworker.py:check_connected\n",
      "1\t\t0.000001\t\t0.000001\t\tworker.py:__init__\n",
      "1\t\t0.000007\t\t0.000001\t\tworker.py:__enter__\n",
      "1\t\t0.000008\t\t0.000003\t\tworker.py:__exit__\n",
      "1\t\t0.000003\t\t0.000002\t\tworker.py:log_span\n",
      "2\t\t0.000001\t\t0.000001\t\tworker.py:<dictcomp>\n",
      "2\t\t0.000011\t\t0.000007\t\tworker.py:log\n",
      "1\t\t0.000624\t\t0.000013\t\tworker.py:put\n",
      "1\t\t0.000552\t\t0.000552\t\t<method 'put' of 'pyarrow.plasma.PlasmaClient' objects>\n"
     ]
    }
   ],
   "source": [
    "print_profile_data(short_numpy_array)"
   ]
  },
  {
   "cell_type": "code",
   "execution_count": 11,
   "metadata": {},
   "outputs": [
    {
     "name": "stdout",
     "output_type": "stream",
     "text": [
      "ncalls\t\ttottime\t\tinlinetime\t\tfilename(function)\n",
      "2\t\t0.000001\t\t0.000001\t\t<method 'items' of 'dict' objects>\n",
      "4\t\t0.000004\t\t0.000004\t\t<built-in method builtins.isinstance>\n",
      "1\t\t0.000001\t\t0.000001\t\t<built-in method _thread.get_ident>\n",
      "1\t\t0.000001\t\t0.000001\t\tthreading.py:name\n",
      "1\t\t0.000002\t\t0.000001\t\tthreading.py:getName\n",
      "1\t\t0.000003\t\t0.000002\t\tthreading.py:current_thread\n",
      "1\t\t0.000000\t\t0.000000\t\t<method 'disable' of '_lsprof.Profiler' objects>\n",
      "1\t\t0.011899\t\t0.000013\t\tworker.py:store_and_register\n",
      "1\t\t0.000017\t\t0.000017\t\t<method 'compute_put_id' of 'local_scheduler.LocalSchedulerClient' objects>\n",
      "1\t\t0.000001\t\t0.000001\t\t<method 'id' of 'common.ObjectID' objects>\n",
      "1\t\t0.011907\t\t0.000006\t\tworker.py:put_object\n",
      "1\t\t0.000010\t\t0.000005\t\tworker.py:check_main_thread\n",
      "1\t\t0.000001\t\t0.000001\t\tworker.py:check_connected\n",
      "1\t\t0.000002\t\t0.000002\t\tworker.py:__init__\n",
      "1\t\t0.000010\t\t0.000002\t\tworker.py:__enter__\n",
      "1\t\t0.000018\t\t0.000006\t\tworker.py:__exit__\n",
      "1\t\t0.000004\t\t0.000002\t\tworker.py:log_span\n",
      "2\t\t0.000002\t\t0.000002\t\tworker.py:<dictcomp>\n",
      "2\t\t0.000020\t\t0.000015\t\tworker.py:log\n",
      "1\t\t0.011987\t\t0.000020\t\tworker.py:put\n",
      "1\t\t0.011885\t\t0.011885\t\t<method 'put' of 'pyarrow.plasma.PlasmaClient' objects>\n"
     ]
    }
   ],
   "source": [
    "print_profile_data(large_numpy_array)"
   ]
  },
  {
   "cell_type": "code",
   "execution_count": 12,
   "metadata": {},
   "outputs": [
    {
     "name": "stdout",
     "output_type": "stream",
     "text": [
      "ncalls\t\ttottime\t\tinlinetime\t\tfilename(function)\n",
      "2\t\t0.000001\t\t0.000001\t\t<method 'items' of 'dict' objects>\n",
      "4\t\t0.000001\t\t0.000001\t\t<built-in method builtins.isinstance>\n",
      "1\t\t0.000001\t\t0.000001\t\t<built-in method _thread.get_ident>\n",
      "1\t\t0.000001\t\t0.000001\t\tthreading.py:name\n",
      "1\t\t0.000002\t\t0.000001\t\tthreading.py:getName\n",
      "1\t\t0.000003\t\t0.000002\t\tthreading.py:current_thread\n",
      "1\t\t0.000000\t\t0.000000\t\t<method 'disable' of '_lsprof.Profiler' objects>\n",
      "1\t\t0.034082\t\t0.000012\t\tworker.py:store_and_register\n",
      "1\t\t0.000018\t\t0.000018\t\t<method 'compute_put_id' of 'local_scheduler.LocalSchedulerClient' objects>\n",
      "1\t\t0.000001\t\t0.000001\t\t<method 'id' of 'common.ObjectID' objects>\n",
      "1\t\t0.034089\t\t0.000007\t\tworker.py:put_object\n",
      "1\t\t0.000008\t\t0.000003\t\tworker.py:check_main_thread\n",
      "1\t\t0.000002\t\t0.000002\t\tworker.py:check_connected\n",
      "1\t\t0.000001\t\t0.000001\t\tworker.py:__init__\n",
      "1\t\t0.000008\t\t0.000001\t\tworker.py:__enter__\n",
      "1\t\t0.000014\t\t0.000004\t\tworker.py:__exit__\n",
      "1\t\t0.000003\t\t0.000002\t\tworker.py:log_span\n",
      "2\t\t0.000001\t\t0.000001\t\tworker.py:<dictcomp>\n",
      "2\t\t0.000017\t\t0.000014\t\tworker.py:log\n",
      "1\t\t0.034160\t\t0.000018\t\tworker.py:put\n",
      "1\t\t0.034069\t\t0.034069\t\t<method 'put' of 'pyarrow.plasma.PlasmaClient' objects>\n"
     ]
    }
   ],
   "source": [
    "print_profile_data(very_large_numpy_array)"
   ]
  },
  {
   "cell_type": "markdown",
   "metadata": {},
   "source": [
    "# Profiling Results with Default Printer"
   ]
  },
  {
   "cell_type": "code",
   "execution_count": 15,
   "metadata": {},
   "outputs": [
    {
     "name": "stdout",
     "output_type": "stream",
     "text": [
      "         27 function calls in 0.001 seconds\n",
      "\n",
      "   Ordered by: standard name\n",
      "\n",
      "   ncalls  tottime  percall  cumtime  percall filename:lineno(function)\n",
      "        1    0.000    0.000    0.000    0.000 threading.py:1076(name)\n",
      "        1    0.000    0.000    0.000    0.000 threading.py:1150(getName)\n",
      "        1    0.000    0.000    0.000    0.000 threading.py:1230(current_thread)\n",
      "        1    0.000    0.000    0.000    0.000 worker.py:2128(__init__)\n",
      "        1    0.000    0.000    0.000    0.000 worker.py:2134(__enter__)\n",
      "        1    0.000    0.000    0.000    0.000 worker.py:2141(__exit__)\n",
      "        1    0.000    0.000    0.000    0.000 worker.py:2155(log_span)\n",
      "        2    0.000    0.000    0.000    0.000 worker.py:2163(log)\n",
      "        2    0.000    0.000    0.000    0.000 worker.py:2184(<dictcomp>)\n",
      "        1    0.000    0.000    0.001    0.001 worker.py:2241(put)\n",
      "        1    0.000    0.000    0.001    0.001 worker.py:262(store_and_register)\n",
      "        1    0.000    0.000    0.001    0.001 worker.py:327(put_object)\n",
      "        1    0.000    0.000    0.000    0.000 worker.py:944(check_main_thread)\n",
      "        1    0.000    0.000    0.000    0.000 worker.py:958(check_connected)\n",
      "        1    0.000    0.000    0.000    0.000 {built-in method _thread.get_ident}\n",
      "        4    0.000    0.000    0.000    0.000 {built-in method builtins.isinstance}\n",
      "        1    0.000    0.000    0.000    0.000 {method 'compute_put_id' of 'local_scheduler.LocalSchedulerClient' objects}\n",
      "        1    0.000    0.000    0.000    0.000 {method 'disable' of '_lsprof.Profiler' objects}\n",
      "        1    0.000    0.000    0.000    0.000 {method 'id' of 'common.ObjectID' objects}\n",
      "        2    0.000    0.000    0.000    0.000 {method 'items' of 'dict' objects}\n",
      "        1    0.001    0.001    0.001    0.001 {method 'put' of 'pyarrow.plasma.PlasmaClient' objects}\n",
      "\n",
      "\n"
     ]
    }
   ],
   "source": [
    "get_profile_data(short_numpy_array).print_stats()"
   ]
  },
  {
   "cell_type": "code",
   "execution_count": 16,
   "metadata": {},
   "outputs": [
    {
     "name": "stdout",
     "output_type": "stream",
     "text": [
      "         27 function calls in 0.003 seconds\n",
      "\n",
      "   Ordered by: standard name\n",
      "\n",
      "   ncalls  tottime  percall  cumtime  percall filename:lineno(function)\n",
      "        1    0.000    0.000    0.000    0.000 threading.py:1076(name)\n",
      "        1    0.000    0.000    0.000    0.000 threading.py:1150(getName)\n",
      "        1    0.000    0.000    0.000    0.000 threading.py:1230(current_thread)\n",
      "        1    0.000    0.000    0.000    0.000 worker.py:2128(__init__)\n",
      "        1    0.000    0.000    0.000    0.000 worker.py:2134(__enter__)\n",
      "        1    0.000    0.000    0.000    0.000 worker.py:2141(__exit__)\n",
      "        1    0.000    0.000    0.000    0.000 worker.py:2155(log_span)\n",
      "        2    0.000    0.000    0.000    0.000 worker.py:2163(log)\n",
      "        2    0.000    0.000    0.000    0.000 worker.py:2184(<dictcomp>)\n",
      "        1    0.000    0.000    0.003    0.003 worker.py:2241(put)\n",
      "        1    0.000    0.000    0.003    0.003 worker.py:262(store_and_register)\n",
      "        1    0.000    0.000    0.003    0.003 worker.py:327(put_object)\n",
      "        1    0.000    0.000    0.000    0.000 worker.py:944(check_main_thread)\n",
      "        1    0.000    0.000    0.000    0.000 worker.py:958(check_connected)\n",
      "        1    0.000    0.000    0.000    0.000 {built-in method _thread.get_ident}\n",
      "        4    0.000    0.000    0.000    0.000 {built-in method builtins.isinstance}\n",
      "        1    0.000    0.000    0.000    0.000 {method 'compute_put_id' of 'local_scheduler.LocalSchedulerClient' objects}\n",
      "        1    0.000    0.000    0.000    0.000 {method 'disable' of '_lsprof.Profiler' objects}\n",
      "        1    0.000    0.000    0.000    0.000 {method 'id' of 'common.ObjectID' objects}\n",
      "        2    0.000    0.000    0.000    0.000 {method 'items' of 'dict' objects}\n",
      "        1    0.003    0.003    0.003    0.003 {method 'put' of 'pyarrow.plasma.PlasmaClient' objects}\n",
      "\n",
      "\n"
     ]
    }
   ],
   "source": [
    "get_profile_data(large_numpy_array).print_stats()"
   ]
  },
  {
   "cell_type": "code",
   "execution_count": 17,
   "metadata": {},
   "outputs": [
    {
     "name": "stdout",
     "output_type": "stream",
     "text": [
      "         27 function calls in 0.006 seconds\n",
      "\n",
      "   Ordered by: standard name\n",
      "\n",
      "   ncalls  tottime  percall  cumtime  percall filename:lineno(function)\n",
      "        1    0.000    0.000    0.000    0.000 threading.py:1076(name)\n",
      "        1    0.000    0.000    0.000    0.000 threading.py:1150(getName)\n",
      "        1    0.000    0.000    0.000    0.000 threading.py:1230(current_thread)\n",
      "        1    0.000    0.000    0.000    0.000 worker.py:2128(__init__)\n",
      "        1    0.000    0.000    0.000    0.000 worker.py:2134(__enter__)\n",
      "        1    0.000    0.000    0.000    0.000 worker.py:2141(__exit__)\n",
      "        1    0.000    0.000    0.000    0.000 worker.py:2155(log_span)\n",
      "        2    0.000    0.000    0.000    0.000 worker.py:2163(log)\n",
      "        2    0.000    0.000    0.000    0.000 worker.py:2184(<dictcomp>)\n",
      "        1    0.000    0.000    0.006    0.006 worker.py:2241(put)\n",
      "        1    0.000    0.000    0.006    0.006 worker.py:262(store_and_register)\n",
      "        1    0.000    0.000    0.006    0.006 worker.py:327(put_object)\n",
      "        1    0.000    0.000    0.000    0.000 worker.py:944(check_main_thread)\n",
      "        1    0.000    0.000    0.000    0.000 worker.py:958(check_connected)\n",
      "        1    0.000    0.000    0.000    0.000 {built-in method _thread.get_ident}\n",
      "        4    0.000    0.000    0.000    0.000 {built-in method builtins.isinstance}\n",
      "        1    0.000    0.000    0.000    0.000 {method 'compute_put_id' of 'local_scheduler.LocalSchedulerClient' objects}\n",
      "        1    0.000    0.000    0.000    0.000 {method 'disable' of '_lsprof.Profiler' objects}\n",
      "        1    0.000    0.000    0.000    0.000 {method 'id' of 'common.ObjectID' objects}\n",
      "        2    0.000    0.000    0.000    0.000 {method 'items' of 'dict' objects}\n",
      "        1    0.006    0.006    0.006    0.006 {method 'put' of 'pyarrow.plasma.PlasmaClient' objects}\n",
      "\n",
      "\n"
     ]
    }
   ],
   "source": [
    "get_profile_data(very_large_numpy_array).print_stats()"
   ]
  },
  {
   "cell_type": "code",
   "execution_count": null,
   "metadata": {
    "collapsed": true
   },
   "outputs": [],
   "source": []
  }
 ],
 "metadata": {
  "kernelspec": {
   "display_name": "Python 3",
   "language": "python",
   "name": "python3"
  },
  "language_info": {
   "codemirror_mode": {
    "name": "ipython",
    "version": 3
   },
   "file_extension": ".py",
   "mimetype": "text/x-python",
   "name": "python",
   "nbconvert_exporter": "python",
   "pygments_lexer": "ipython3",
   "version": "3.6.3"
  }
 },
 "nbformat": 4,
 "nbformat_minor": 2
}
