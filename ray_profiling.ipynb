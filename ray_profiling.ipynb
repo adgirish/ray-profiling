{
 "cells": [
  {
   "cell_type": "markdown",
   "metadata": {},
   "source": [
    "# Profiling ray.put()"
   ]
  },
  {
   "cell_type": "code",
   "execution_count": 9,
   "metadata": {
    "collapsed": true
   },
   "outputs": [],
   "source": [
    "import ray\n",
    "import cProfile\n",
    "import pstats\n",
    "import StringIO\n",
    "import time\n",
    "import sys\n",
    "import string\n",
    "import random\n",
    "import numpy as np"
   ]
  },
  {
   "cell_type": "code",
   "execution_count": 2,
   "metadata": {
    "collapsed": false
   },
   "outputs": [
    {
     "name": "stdout",
     "output_type": "stream",
     "text": [
      "Waiting for redis server at 127.0.0.1:43702 to respond...\n",
      "Waiting for redis server at 127.0.0.1:15344 to respond...\n",
      "Starting local scheduler with the following resources: {'GPU': 0, 'CPU': 4}.\n",
      "\n",
      "======================================================================\n",
      "View the web UI at http://localhost:8906/notebooks/ray_ui20850.ipynb?token=e4326d43fd9942fe5b4677420fe4849a17ec2c8c1eed9596\n",
      "======================================================================\n",
      "\n"
     ]
    },
    {
     "data": {
      "text/plain": [
       "{'local_scheduler_socket_names': ['/tmp/scheduler1391573'],\n",
       " 'node_ip_address': '127.0.0.1',\n",
       " 'object_store_addresses': [ObjectStoreAddress(name='/tmp/plasma_store96370547', manager_name='/tmp/plasma_manager23532085', manager_port=29197)],\n",
       " 'redis_address': '127.0.0.1:43702',\n",
       " 'webui_url': 'http://localhost:8906/notebooks/ray_ui20850.ipynb?token=e4326d43fd9942fe5b4677420fe4849a17ec2c8c1eed9596'}"
      ]
     },
     "execution_count": 2,
     "metadata": {},
     "output_type": "execute_result"
    }
   ],
   "source": [
    "ray.init()"
   ]
  },
  {
   "cell_type": "markdown",
   "metadata": {},
   "source": [
    "## Functions"
   ]
  },
  {
   "cell_type": "code",
   "execution_count": 3,
   "metadata": {
    "collapsed": true
   },
   "outputs": [],
   "source": [
    "def get_profile_data(arr):\n",
    "    pr = cProfile.Profile()\n",
    "    pr.enable()\n",
    "    ray.put(arr)\n",
    "    pr.disable()\n",
    "    return pr"
   ]
  },
  {
   "cell_type": "code",
   "execution_count": 41,
   "metadata": {
    "collapsed": true
   },
   "outputs": [],
   "source": [
    "def stats_printer(profile_object):\n",
    "    s = StringIO.StringIO()\n",
    "    sortby = 'module'\n",
    "    ps = pstats.Stats(profile_object, stream=s).sort_stats(sortby)\n",
    "    ps.strip_dirs()\n",
    "    ps.print_stats('put|plasma|store_and_register')\n",
    "    print s.getvalue()"
   ]
  },
  {
   "cell_type": "code",
   "execution_count": 51,
   "metadata": {
    "collapsed": true
   },
   "outputs": [],
   "source": [
    "def print_profile_data(arr):\n",
    "    pr = get_profile_data(arr)\n",
    "    stats_printer(pr)\n",
    "    s = StringIO.StringIO()\n",
    "    ps = pstats.Stats(pr, stream=s)\n",
    "    ps.strip_dirs()\n",
    "    ps.print_stats('plasma')\n",
    "    print s.getvalue()"
   ]
  },
  {
   "cell_type": "markdown",
   "metadata": {},
   "source": [
    "## Test Inputs"
   ]
  },
  {
   "cell_type": "code",
   "execution_count": 62,
   "metadata": {
    "collapsed": false
   },
   "outputs": [],
   "source": [
    "NUM_STRINGS = 2*10**3\n",
    "STRING_LENGTH = 20\n",
    "\n",
    "short_numpy_array = np.array([1,2,3,4,5])\n",
    "large_numpy_array = np.array([i for i in range(NUM_STRINGS)])\n",
    "very_large_numpy_array = np.array([i for i in range(NUM_STRINGS * 10)])\n",
    "large_string_array = [''.join(random.choice(string.ascii_letters) for _ in range(STRING_LENGTH)) for _ in range(NUM_STRINGS)]\n",
    "array_of_large_integers = [np.random.randint(0, sys.maxsize) for _ in range(NUM_STRINGS * 10)]\n",
    "large_string_array_asints = np.array([[ord(c) for c in s] for s in large_string_array], dtype=np.uint8)"
   ]
  },
  {
   "cell_type": "code",
   "execution_count": 63,
   "metadata": {
    "collapsed": false,
    "scrolled": true
   },
   "outputs": [
    {
     "name": "stdout",
     "output_type": "stream",
     "text": [
      "Size of short numpy array: 0 MB\n",
      "Size of large numpy array: 0 MB\n",
      "Size of very large numpy array: 0 MB\n",
      "Size of large string string: 0 MB\n",
      "Size of large integer array: 0 MB\n",
      "Size of string array as ints: 0 MB\n"
     ]
    }
   ],
   "source": [
    "print(\"Size of short numpy array: \" + str(sys.getsizeof(short_numpy_array)/1024/1024) + \" MB\")\n",
    "print(\"Size of large numpy array: \" + str(sys.getsizeof(large_numpy_array)/1024/1024) + \" MB\")\n",
    "print(\"Size of very large numpy array: \" + str(sys.getsizeof(very_large_numpy_array)/1024/1024) + \" MB\")\n",
    "print(\"Size of large string string: \" + str(sys.getsizeof(large_string_array)/1024/1024) + \" MB\")\n",
    "print(\"Size of large integer array: \" + str(sys.getsizeof(array_of_large_integers)/1024/1024) + \" MB\")\n",
    "print(\"Size of string array as ints: \" + str(sys.getsizeof(large_string_array_asints)/1024/1024) + \" MB\")"
   ]
  },
  {
   "cell_type": "markdown",
   "metadata": {},
   "source": [
    "## Profiling Results"
   ]
  },
  {
   "cell_type": "code",
   "execution_count": 67,
   "metadata": {
    "collapsed": false
   },
   "outputs": [
    {
     "name": "stdout",
     "output_type": "stream",
     "text": [
      "         27 function calls in 0.001 seconds\n",
      "\n",
      "   Random listing order was used\n",
      "   List reduced from 21 to 5 due to restriction <'put|plasma|store_and_register'>\n",
      "\n",
      "   ncalls  tottime  percall  cumtime  percall filename:lineno(function)\n",
      "        1    0.000    0.000    0.001    0.001 worker.py:257(store_and_register)\n",
      "        1    0.000    0.000    0.000    0.000 {method 'compute_put_id' of 'local_scheduler.LocalSchedulerClient' objects}\n",
      "        1    0.001    0.001    0.001    0.001 {method 'put' of 'pyarrow.plasma.PlasmaClient' objects}\n",
      "        1    0.000    0.000    0.001    0.001 worker.py:2253(put)\n",
      "        1    0.000    0.000    0.001    0.001 worker.py:322(put_object)\n",
      "\n",
      "\n",
      "\n",
      "         27 function calls in 0.001 seconds\n",
      "\n",
      "   Random listing order was used\n",
      "   List reduced from 21 to 1 due to restriction <'plasma'>\n",
      "\n",
      "   ncalls  tottime  percall  cumtime  percall filename:lineno(function)\n",
      "        1    0.001    0.001    0.001    0.001 {method 'put' of 'pyarrow.plasma.PlasmaClient' objects}\n",
      "\n",
      "\n",
      "\n"
     ]
    }
   ],
   "source": [
    "print_profile_data(short_numpy_array)"
   ]
  },
  {
   "cell_type": "code",
   "execution_count": 68,
   "metadata": {
    "collapsed": false
   },
   "outputs": [
    {
     "name": "stdout",
     "output_type": "stream",
     "text": [
      "         27 function calls in 0.001 seconds\n",
      "\n",
      "   Random listing order was used\n",
      "   List reduced from 21 to 5 due to restriction <'put|plasma|store_and_register'>\n",
      "\n",
      "   ncalls  tottime  percall  cumtime  percall filename:lineno(function)\n",
      "        1    0.000    0.000    0.001    0.001 worker.py:257(store_and_register)\n",
      "        1    0.000    0.000    0.000    0.000 {method 'compute_put_id' of 'local_scheduler.LocalSchedulerClient' objects}\n",
      "        1    0.001    0.001    0.001    0.001 {method 'put' of 'pyarrow.plasma.PlasmaClient' objects}\n",
      "        1    0.000    0.000    0.001    0.001 worker.py:2253(put)\n",
      "        1    0.000    0.000    0.001    0.001 worker.py:322(put_object)\n",
      "\n",
      "\n",
      "\n",
      "         27 function calls in 0.001 seconds\n",
      "\n",
      "   Random listing order was used\n",
      "   List reduced from 21 to 1 due to restriction <'plasma'>\n",
      "\n",
      "   ncalls  tottime  percall  cumtime  percall filename:lineno(function)\n",
      "        1    0.001    0.001    0.001    0.001 {method 'put' of 'pyarrow.plasma.PlasmaClient' objects}\n",
      "\n",
      "\n",
      "\n"
     ]
    }
   ],
   "source": [
    "print_profile_data(large_numpy_array)"
   ]
  },
  {
   "cell_type": "code",
   "execution_count": 69,
   "metadata": {
    "collapsed": false
   },
   "outputs": [
    {
     "name": "stdout",
     "output_type": "stream",
     "text": [
      "         27 function calls in 0.011 seconds\n",
      "\n",
      "   Random listing order was used\n",
      "   List reduced from 21 to 5 due to restriction <'put|plasma|store_and_register'>\n",
      "\n",
      "   ncalls  tottime  percall  cumtime  percall filename:lineno(function)\n",
      "        1    0.000    0.000    0.011    0.011 worker.py:257(store_and_register)\n",
      "        1    0.000    0.000    0.000    0.000 {method 'compute_put_id' of 'local_scheduler.LocalSchedulerClient' objects}\n",
      "        1    0.011    0.011    0.011    0.011 {method 'put' of 'pyarrow.plasma.PlasmaClient' objects}\n",
      "        1    0.000    0.000    0.011    0.011 worker.py:2253(put)\n",
      "        1    0.000    0.000    0.011    0.011 worker.py:322(put_object)\n",
      "\n",
      "\n",
      "\n",
      "         27 function calls in 0.011 seconds\n",
      "\n",
      "   Random listing order was used\n",
      "   List reduced from 21 to 1 due to restriction <'plasma'>\n",
      "\n",
      "   ncalls  tottime  percall  cumtime  percall filename:lineno(function)\n",
      "        1    0.011    0.011    0.011    0.011 {method 'put' of 'pyarrow.plasma.PlasmaClient' objects}\n",
      "\n",
      "\n",
      "\n"
     ]
    }
   ],
   "source": [
    "print_profile_data(very_large_numpy_array)"
   ]
  },
  {
   "cell_type": "code",
   "execution_count": 70,
   "metadata": {
    "collapsed": false
   },
   "outputs": [
    {
     "name": "stdout",
     "output_type": "stream",
     "text": [
      "         27 function calls in 0.004 seconds\n",
      "\n",
      "   Random listing order was used\n",
      "   List reduced from 21 to 5 due to restriction <'put|plasma|store_and_register'>\n",
      "\n",
      "   ncalls  tottime  percall  cumtime  percall filename:lineno(function)\n",
      "        1    0.000    0.000    0.004    0.004 worker.py:257(store_and_register)\n",
      "        1    0.000    0.000    0.000    0.000 {method 'compute_put_id' of 'local_scheduler.LocalSchedulerClient' objects}\n",
      "        1    0.004    0.004    0.004    0.004 {method 'put' of 'pyarrow.plasma.PlasmaClient' objects}\n",
      "        1    0.000    0.000    0.004    0.004 worker.py:2253(put)\n",
      "        1    0.000    0.000    0.004    0.004 worker.py:322(put_object)\n",
      "\n",
      "\n",
      "\n",
      "         27 function calls in 0.004 seconds\n",
      "\n",
      "   Random listing order was used\n",
      "   List reduced from 21 to 1 due to restriction <'plasma'>\n",
      "\n",
      "   ncalls  tottime  percall  cumtime  percall filename:lineno(function)\n",
      "        1    0.004    0.004    0.004    0.004 {method 'put' of 'pyarrow.plasma.PlasmaClient' objects}\n",
      "\n",
      "\n",
      "\n"
     ]
    }
   ],
   "source": [
    "print_profile_data(large_string_array)"
   ]
  },
  {
   "cell_type": "code",
   "execution_count": 71,
   "metadata": {
    "collapsed": false
   },
   "outputs": [
    {
     "name": "stdout",
     "output_type": "stream",
     "text": [
      "         27 function calls in 0.008 seconds\n",
      "\n",
      "   Random listing order was used\n",
      "   List reduced from 21 to 5 due to restriction <'put|plasma|store_and_register'>\n",
      "\n",
      "   ncalls  tottime  percall  cumtime  percall filename:lineno(function)\n",
      "        1    0.000    0.000    0.008    0.008 worker.py:257(store_and_register)\n",
      "        1    0.000    0.000    0.000    0.000 {method 'compute_put_id' of 'local_scheduler.LocalSchedulerClient' objects}\n",
      "        1    0.008    0.008    0.008    0.008 {method 'put' of 'pyarrow.plasma.PlasmaClient' objects}\n",
      "        1    0.000    0.000    0.008    0.008 worker.py:2253(put)\n",
      "        1    0.000    0.000    0.008    0.008 worker.py:322(put_object)\n",
      "\n",
      "\n",
      "\n",
      "         27 function calls in 0.008 seconds\n",
      "\n",
      "   Random listing order was used\n",
      "   List reduced from 21 to 1 due to restriction <'plasma'>\n",
      "\n",
      "   ncalls  tottime  percall  cumtime  percall filename:lineno(function)\n",
      "        1    0.008    0.008    0.008    0.008 {method 'put' of 'pyarrow.plasma.PlasmaClient' objects}\n",
      "\n",
      "\n",
      "\n"
     ]
    }
   ],
   "source": [
    "print_profile_data(array_of_large_integers)"
   ]
  },
  {
   "cell_type": "code",
   "execution_count": 72,
   "metadata": {
    "collapsed": false,
    "scrolled": true
   },
   "outputs": [
    {
     "name": "stdout",
     "output_type": "stream",
     "text": [
      "         27 function calls in 0.001 seconds\n",
      "\n",
      "   Random listing order was used\n",
      "   List reduced from 21 to 5 due to restriction <'put|plasma|store_and_register'>\n",
      "\n",
      "   ncalls  tottime  percall  cumtime  percall filename:lineno(function)\n",
      "        1    0.000    0.000    0.001    0.001 worker.py:257(store_and_register)\n",
      "        1    0.000    0.000    0.000    0.000 {method 'compute_put_id' of 'local_scheduler.LocalSchedulerClient' objects}\n",
      "        1    0.001    0.001    0.001    0.001 {method 'put' of 'pyarrow.plasma.PlasmaClient' objects}\n",
      "        1    0.000    0.000    0.001    0.001 worker.py:2253(put)\n",
      "        1    0.000    0.000    0.001    0.001 worker.py:322(put_object)\n",
      "\n",
      "\n",
      "\n",
      "         27 function calls in 0.001 seconds\n",
      "\n",
      "   Random listing order was used\n",
      "   List reduced from 21 to 1 due to restriction <'plasma'>\n",
      "\n",
      "   ncalls  tottime  percall  cumtime  percall filename:lineno(function)\n",
      "        1    0.001    0.001    0.001    0.001 {method 'put' of 'pyarrow.plasma.PlasmaClient' objects}\n",
      "\n",
      "\n",
      "\n"
     ]
    }
   ],
   "source": [
    "print_profile_data(large_string_array_asints)"
   ]
  },
  {
   "cell_type": "markdown",
   "metadata": {},
   "source": [
    "## Plots"
   ]
  },
  {
   "cell_type": "code",
   "execution_count": 61,
   "metadata": {
    "collapsed": false
   },
   "outputs": [
    {
     "ename": "AttributeError",
     "evalue": "Stats instance has no attribute 'get'",
     "output_type": "error",
     "traceback": [
      "\u001b[0;31m---------------------------------------------------------------------------\u001b[0m",
      "\u001b[0;31mAttributeError\u001b[0m                            Traceback (most recent call last)",
      "\u001b[0;32m<ipython-input-61-4f32d11482bb>\u001b[0m in \u001b[0;36m<module>\u001b[0;34m()\u001b[0m\n\u001b[1;32m      8\u001b[0m \u001b[0mps\u001b[0m\u001b[0;34m.\u001b[0m\u001b[0mstrip_dirs\u001b[0m\u001b[0;34m(\u001b[0m\u001b[0;34m)\u001b[0m\u001b[0;34m\u001b[0m\u001b[0m\n\u001b[1;32m      9\u001b[0m \u001b[0mps\u001b[0m\u001b[0;34m.\u001b[0m\u001b[0mprint_stats\u001b[0m\u001b[0;34m(\u001b[0m\u001b[0;34m'plasma'\u001b[0m\u001b[0;34m)\u001b[0m\u001b[0;34m\u001b[0m\u001b[0m\n\u001b[0;32m---> 10\u001b[0;31m \u001b[0mps\u001b[0m\u001b[0;34m.\u001b[0m\u001b[0mget\u001b[0m\u001b[0;34m(\u001b[0m\u001b[0;34m)\u001b[0m\u001b[0;34m\u001b[0m\u001b[0m\n\u001b[0m\u001b[1;32m     11\u001b[0m \u001b[0;31m#print s.getvalue()\u001b[0m\u001b[0;34m\u001b[0m\u001b[0;34m\u001b[0m\u001b[0m\n",
      "\u001b[0;31mAttributeError\u001b[0m: Stats instance has no attribute 'get'"
     ]
    }
   ],
   "source": [
    "pr = cProfile.Profile()\n",
    "pr.enable()\n",
    "ray.put(array_of_large_integers)\n",
    "pr.disable()\n",
    "s = StringIO.StringIO()\n",
    "sortby = 'module'\n",
    "ps = pstats.Stats(pr, stream=s).sort_stats(sortby)\n",
    "ps.strip_dirs()\n",
    "ps.print_stats('plasma')\n",
    "ps\n",
    "#print s.getvalue()"
   ]
  },
  {
   "cell_type": "code",
   "execution_count": null,
   "metadata": {
    "collapsed": true
   },
   "outputs": [],
   "source": []
  }
 ],
 "metadata": {
  "kernelspec": {
   "display_name": "Python 2",
   "language": "python",
   "name": "python2"
  },
  "language_info": {
   "codemirror_mode": {
    "name": "ipython",
    "version": 2
   },
   "file_extension": ".py",
   "mimetype": "text/x-python",
   "name": "python",
   "nbconvert_exporter": "python",
   "pygments_lexer": "ipython2",
   "version": "2.7.12"
  }
 },
 "nbformat": 4,
 "nbformat_minor": 2
}
